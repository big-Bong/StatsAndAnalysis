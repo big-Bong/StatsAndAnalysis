{
 "cells": [
  {
   "cell_type": "code",
   "execution_count": 1,
   "metadata": {},
   "outputs": [],
   "source": [
    "def findMedian(arr,N):\n",
    "    if(N%2==0):\n",
    "        return((arr[int(N/2)-1]+arr[int(N/2)])/2)\n",
    "    else:\n",
    "        return(arr[int(N/2)])"
   ]
  },
  {
   "cell_type": "code",
   "execution_count": 27,
   "metadata": {},
   "outputs": [
    {
     "name": "stdout",
     "output_type": "stream",
     "text": [
      "5\n",
      "4 1 9 2 8 3\n",
      "18 17 16 20 7 11\n"
     ]
    }
   ],
   "source": [
    "N = int(input())\n",
    "arr = [int(elem) for elem in input().split()]\n",
    "freq = [int(elem) for elem in input().split()]"
   ]
  },
  {
   "cell_type": "code",
   "execution_count": 28,
   "metadata": {},
   "outputs": [],
   "source": [
    "arr_freq = [arr[i] for i in range(N) for j in range(freq[i])]\n",
    "arr_freq.sort()\n",
    "N = sum(freq)"
   ]
  },
  {
   "cell_type": "code",
   "execution_count": 29,
   "metadata": {},
   "outputs": [],
   "source": [
    "Q1 = Q3 = 0\n",
    "if(N%2==0):\n",
    "    Q1 = findMedian(arr_freq[:int(N/2)],int(N/2))\n",
    "    Q3 = findMedian(arr_freq[int(N/2):],int(N/2))\n",
    "else:\n",
    "    Q1 = findMedian(arr_freq[:int(N/2)],int(N/2))\n",
    "    Q3 = findMedian(arr_freq[int(N/2)+1:],int(N/2))"
   ]
  },
  {
   "cell_type": "code",
   "execution_count": 30,
   "metadata": {},
   "outputs": [
    {
     "name": "stdout",
     "output_type": "stream",
     "text": [
      "7.0\n"
     ]
    }
   ],
   "source": [
    "print(\"%.1f\"%(Q3-Q1))"
   ]
  },
  {
   "cell_type": "code",
   "execution_count": null,
   "metadata": {},
   "outputs": [],
   "source": []
  }
 ],
 "metadata": {
  "kernelspec": {
   "display_name": "Python 3",
   "language": "python",
   "name": "python3"
  },
  "language_info": {
   "codemirror_mode": {
    "name": "ipython",
    "version": 3
   },
   "file_extension": ".py",
   "mimetype": "text/x-python",
   "name": "python",
   "nbconvert_exporter": "python",
   "pygments_lexer": "ipython3",
   "version": "3.7.3"
  }
 },
 "nbformat": 4,
 "nbformat_minor": 2
}
