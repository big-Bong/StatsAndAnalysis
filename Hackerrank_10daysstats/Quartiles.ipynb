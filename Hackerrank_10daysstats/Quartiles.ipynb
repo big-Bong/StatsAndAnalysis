{
 "cells": [
  {
   "cell_type": "code",
   "execution_count": 49,
   "metadata": {},
   "outputs": [],
   "source": [
    "def findMedian(arr,N):\n",
    "    if((N%2) == 0):\n",
    "        return ((arr[int(N/2)-1]+arr[int(N/2)])/2)\n",
    "    return arr[int(N/2)]"
   ]
  },
  {
   "cell_type": "code",
   "execution_count": 50,
   "metadata": {},
   "outputs": [
    {
     "name": "stdout",
     "output_type": "stream",
     "text": [
      "2\n",
      "3 4\n"
     ]
    }
   ],
   "source": [
    "N = int(input())\n",
    "arr = [int(elem) for elem in input().split()]"
   ]
  },
  {
   "cell_type": "code",
   "execution_count": 51,
   "metadata": {},
   "outputs": [],
   "source": [
    "arr.sort()"
   ]
  },
  {
   "cell_type": "code",
   "execution_count": 52,
   "metadata": {},
   "outputs": [],
   "source": [
    "Q2 = findMedian(arr,N)\n",
    "Q1 = Q3 = 0\n",
    "if(N%2 == 0):\n",
    "    Q1 = findMedian(arr[:int(N/2)],int(N/2))\n",
    "    Q3 = findMedian(arr[int(N/2):],int(N/2))\n",
    "else:\n",
    "    Q1 = findMedian(arr[:int(N/2)],int(N/2))\n",
    "    Q3 = findMedian(arr[int(N/2)+1:],int(N/2))"
   ]
  },
  {
   "cell_type": "code",
   "execution_count": 53,
   "metadata": {},
   "outputs": [
    {
     "name": "stdout",
     "output_type": "stream",
     "text": [
      "3\n",
      "3\n",
      "4\n"
     ]
    }
   ],
   "source": [
    "print(int(Q1))\n",
    "print(int(Q2))\n",
    "print(int(Q3))"
   ]
  },
  {
   "cell_type": "code",
   "execution_count": null,
   "metadata": {},
   "outputs": [],
   "source": []
  }
 ],
 "metadata": {
  "kernelspec": {
   "display_name": "Python 3",
   "language": "python",
   "name": "python3"
  },
  "language_info": {
   "codemirror_mode": {
    "name": "ipython",
    "version": 3
   },
   "file_extension": ".py",
   "mimetype": "text/x-python",
   "name": "python",
   "nbconvert_exporter": "python",
   "pygments_lexer": "ipython3",
   "version": "3.7.3"
  }
 },
 "nbformat": 4,
 "nbformat_minor": 2
}
